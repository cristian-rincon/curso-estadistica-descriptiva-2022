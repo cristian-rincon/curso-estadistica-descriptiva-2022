{
 "cells": [
  {
   "cell_type": "markdown",
   "source": "# Medidas de tendencia central\n\n### Media = $$ \\frac{1}{N} \\sum_{i=1}^N x_i  $$ \n\n### Mediana(impar) = $$ x_{(n+1)/2}^{\\text{ordered}} $$\n\n### Mediana(par) = $$ \\frac{x_{n/2}^{\\text{ordered}} + x_{n/2+1}^{\\text{ordered}}}{2} $$\n\n### Moda = $$ x_k $$ donde $$ \\text{Freq}(x_k) = \\max{(\\text{Freq}(x_i))} $$ \n\ncontinuamos con el dataset https://www.kaggle.com/lepchenkov/usedcarscatalog",
   "metadata": {
    "tags": [],
    "cell_id": "00000-8fe37c28-fbd7-47c9-bad4-b2527b2de557",
    "deepnote_cell_type": "markdown"
   }
  },
  {
   "cell_type": "code",
   "metadata": {
    "tags": [],
    "deepnote_to_be_reexecuted": false,
    "source_hash": "deaac73e",
    "execution_millis": 363,
    "execution_start": 1637201838340,
    "cell_id": "00001-4949ec10-a4b1-46d5-b4a7-fcaf895688fd",
    "output_cleared": false,
    "deepnote_cell_type": "code"
   },
   "source": "import pandas as pd \n\ndf = pd.read_csv('cars.csv')\ndf.head()",
   "outputs": [
    {
     "output_type": "execute_result",
     "execution_count": 2,
     "data": {
      "application/vnd.deepnote.dataframe.v2+json": {
       "row_count": 5,
       "column_count": 30,
       "columns": [
        {
         "name": "manufacturer_name",
         "dtype": "object",
         "stats": {
          "unique_count": 1,
          "nan_count": 0,
          "categories": [
           {
            "name": "Subaru",
            "count": 5
           }
          ]
         }
        },
        {
         "name": "model_name",
         "dtype": "object",
         "stats": {
          "unique_count": 4,
          "nan_count": 0,
          "categories": [
           {
            "name": "Outback",
            "count": 2
           },
           {
            "name": "Forester",
            "count": 1
           },
           {
            "name": "2 others",
            "count": 2
           }
          ]
         }
        },
        {
         "name": "transmission",
         "dtype": "object",
         "stats": {
          "unique_count": 2,
          "nan_count": 0,
          "categories": [
           {
            "name": "automatic",
            "count": 4
           },
           {
            "name": "mechanical",
            "count": 1
           }
          ]
         }
        },
        {
         "name": "color",
         "dtype": "object",
         "stats": {
          "unique_count": 4,
          "nan_count": 0,
          "categories": [
           {
            "name": "blue",
            "count": 2
           },
           {
            "name": "silver",
            "count": 1
           },
           {
            "name": "2 others",
            "count": 2
           }
          ]
         }
        },
        {
         "name": "odometer_value",
         "dtype": "int64",
         "stats": {
          "unique_count": 5,
          "nan_count": 0,
          "min": "10000",
          "max": "402000",
          "histogram": [
           {
            "bin_start": 10000,
            "bin_end": 49200,
            "count": 1
           },
           {
            "bin_start": 49200,
            "bin_end": 88400,
            "count": 0
           },
           {
            "bin_start": 88400,
            "bin_end": 127600,
            "count": 0
           },
           {
            "bin_start": 127600,
            "bin_end": 166800,
            "count": 0
           },
           {
            "bin_start": 166800,
            "bin_end": 206000,
            "count": 1
           },
           {
            "bin_start": 206000,
            "bin_end": 245200,
            "count": 0
           },
           {
            "bin_start": 245200,
            "bin_end": 284400,
            "count": 1
           },
           {
            "bin_start": 284400,
            "bin_end": 323600,
            "count": 1
           },
           {
            "bin_start": 323600,
            "bin_end": 362800,
            "count": 0
           },
           {
            "bin_start": 362800,
            "bin_end": 402000,
            "count": 1
           }
          ]
         }
        },
        {
         "name": "year_produced",
         "dtype": "int64",
         "stats": {
          "unique_count": 4,
          "nan_count": 0,
          "min": "1999",
          "max": "2010",
          "histogram": [
           {
            "bin_start": 1999,
            "bin_end": 2000.1,
            "count": 1
           },
           {
            "bin_start": 2000.1,
            "bin_end": 2001.2,
            "count": 2
           },
           {
            "bin_start": 2001.2,
            "bin_end": 2002.3,
            "count": 1
           },
           {
            "bin_start": 2002.3,
            "bin_end": 2003.4,
            "count": 0
           },
           {
            "bin_start": 2003.4,
            "bin_end": 2004.5,
            "count": 0
           },
           {
            "bin_start": 2004.5,
            "bin_end": 2005.6,
            "count": 0
           },
           {
            "bin_start": 2005.6,
            "bin_end": 2006.7,
            "count": 0
           },
           {
            "bin_start": 2006.7,
            "bin_end": 2007.8,
            "count": 0
           },
           {
            "bin_start": 2007.8,
            "bin_end": 2008.9,
            "count": 0
           },
           {
            "bin_start": 2008.9,
            "bin_end": 2010,
            "count": 1
           }
          ]
         }
        },
        {
         "name": "engine_fuel",
         "dtype": "object",
         "stats": {
          "unique_count": 1,
          "nan_count": 0,
          "categories": [
           {
            "name": "gasoline",
            "count": 5
           }
          ]
         }
        },
        {
         "name": "engine_has_gas",
         "dtype": "bool",
         "stats": {
          "unique_count": 1,
          "nan_count": 0,
          "categories": [
           {
            "name": "False",
            "count": 5
           }
          ]
         }
        },
        {
         "name": "engine_type",
         "dtype": "object",
         "stats": {
          "unique_count": 1,
          "nan_count": 0,
          "categories": [
           {
            "name": "gasoline",
            "count": 5
           }
          ]
         }
        },
        {
         "name": "engine_capacity",
         "dtype": "float64",
         "stats": {
          "unique_count": 2,
          "nan_count": 0,
          "min": "2.5",
          "max": "3.0",
          "histogram": [
           {
            "bin_start": 2.5,
            "bin_end": 2.55,
            "count": 3
           },
           {
            "bin_start": 2.55,
            "bin_end": 2.6,
            "count": 0
           },
           {
            "bin_start": 2.6,
            "bin_end": 2.65,
            "count": 0
           },
           {
            "bin_start": 2.65,
            "bin_end": 2.7,
            "count": 0
           },
           {
            "bin_start": 2.7,
            "bin_end": 2.75,
            "count": 0
           },
           {
            "bin_start": 2.75,
            "bin_end": 2.8,
            "count": 0
           },
           {
            "bin_start": 2.8,
            "bin_end": 2.85,
            "count": 0
           },
           {
            "bin_start": 2.85,
            "bin_end": 2.9,
            "count": 0
           },
           {
            "bin_start": 2.9,
            "bin_end": 2.95,
            "count": 0
           },
           {
            "bin_start": 2.95,
            "bin_end": 3,
            "count": 2
           }
          ]
         }
        },
        {
         "name": "body_type",
         "dtype": "object",
         "stats": {
          "unique_count": 3,
          "nan_count": 0,
          "categories": [
           {
            "name": "universal",
            "count": 3
           },
           {
            "name": "suv",
            "count": 1
           },
           {
            "name": "sedan",
            "count": 1
           }
          ]
         }
        },
        {
         "name": "has_warranty",
         "dtype": "bool",
         "stats": {
          "unique_count": 1,
          "nan_count": 0,
          "categories": [
           {
            "name": "False",
            "count": 5
           }
          ]
         }
        },
        {
         "name": "state",
         "dtype": "object",
         "stats": {
          "unique_count": 1,
          "nan_count": 0,
          "categories": [
           {
            "name": "owned",
            "count": 5
           }
          ]
         }
        },
        {
         "name": "drivetrain",
         "dtype": "object",
         "stats": {
          "unique_count": 1,
          "nan_count": 0,
          "categories": [
           {
            "name": "all",
            "count": 5
           }
          ]
         }
        },
        {
         "name": "price_usd",
         "dtype": "float64",
         "stats": {
          "unique_count": 5,
          "nan_count": 0,
          "min": "2134.11",
          "max": "10900.0",
          "histogram": [
           {
            "bin_start": 2134.11,
            "bin_end": 3010.699,
            "count": 2
           },
           {
            "bin_start": 3010.699,
            "bin_end": 3887.288,
            "count": 0
           },
           {
            "bin_start": 3887.288,
            "bin_end": 4763.877,
            "count": 0
           },
           {
            "bin_start": 4763.877,
            "bin_end": 5640.466,
            "count": 1
           },
           {
            "bin_start": 5640.466,
            "bin_end": 6517.055,
            "count": 0
           },
           {
            "bin_start": 6517.055,
            "bin_end": 7393.644,
            "count": 0
           },
           {
            "bin_start": 7393.644,
            "bin_end": 8270.233,
            "count": 0
           },
           {
            "bin_start": 8270.233,
            "bin_end": 9146.822,
            "count": 0
           },
           {
            "bin_start": 9146.822,
            "bin_end": 10023.411,
            "count": 1
           },
           {
            "bin_start": 10023.411,
            "bin_end": 10900,
            "count": 1
           }
          ]
         }
        },
        {
         "name": "is_exchangeable",
         "dtype": "bool",
         "stats": {
          "unique_count": 2,
          "nan_count": 0,
          "categories": [
           {
            "name": "True",
            "count": 4
           },
           {
            "name": "False",
            "count": 1
           }
          ]
         }
        },
        {
         "name": "location_region",
         "dtype": "object",
         "stats": {
          "unique_count": 2,
          "nan_count": 0,
          "categories": [
           {
            "name": "Минская обл.",
            "count": 4
           },
           {
            "name": "Гомельская обл.",
            "count": 1
           }
          ]
         }
        },
        {
         "name": "number_of_photos",
         "dtype": "int64",
         "stats": {
          "unique_count": 4,
          "nan_count": 0,
          "min": "4",
          "max": "14",
          "histogram": [
           {
            "bin_start": 4,
            "bin_end": 5,
            "count": 1
           },
           {
            "bin_start": 5,
            "bin_end": 6,
            "count": 0
           },
           {
            "bin_start": 6,
            "bin_end": 7,
            "count": 0
           },
           {
            "bin_start": 7,
            "bin_end": 8,
            "count": 0
           },
           {
            "bin_start": 8,
            "bin_end": 9,
            "count": 0
           },
           {
            "bin_start": 9,
            "bin_end": 10,
            "count": 2
           },
           {
            "bin_start": 10,
            "bin_end": 11,
            "count": 0
           },
           {
            "bin_start": 11,
            "bin_end": 12,
            "count": 0
           },
           {
            "bin_start": 12,
            "bin_end": 13,
            "count": 1
           },
           {
            "bin_start": 13,
            "bin_end": 14,
            "count": 1
           }
          ]
         }
        },
        {
         "name": "up_counter",
         "dtype": "int64",
         "stats": {
          "unique_count": 5,
          "nan_count": 0,
          "min": "7",
          "max": "72",
          "histogram": [
           {
            "bin_start": 7,
            "bin_end": 13.5,
            "count": 2
           },
           {
            "bin_start": 13.5,
            "bin_end": 20,
            "count": 0
           },
           {
            "bin_start": 20,
            "bin_end": 26.5,
            "count": 0
           },
           {
            "bin_start": 26.5,
            "bin_end": 33,
            "count": 0
           },
           {
            "bin_start": 33,
            "bin_end": 39.5,
            "count": 0
           },
           {
            "bin_start": 39.5,
            "bin_end": 46,
            "count": 1
           },
           {
            "bin_start": 46,
            "bin_end": 52.5,
            "count": 0
           },
           {
            "bin_start": 52.5,
            "bin_end": 59,
            "count": 1
           },
           {
            "bin_start": 59,
            "bin_end": 65.5,
            "count": 0
           },
           {
            "bin_start": 65.5,
            "bin_end": 72,
            "count": 1
           }
          ]
         }
        },
        {
         "name": "feature_0",
         "dtype": "bool",
         "stats": {
          "unique_count": 2,
          "nan_count": 0,
          "categories": [
           {
            "name": "False",
            "count": 4
           },
           {
            "name": "True",
            "count": 1
           }
          ]
         }
        },
        {
         "name": "feature_1",
         "dtype": "bool",
         "stats": {
          "unique_count": 2,
          "nan_count": 0,
          "categories": [
           {
            "name": "True",
            "count": 4
           },
           {
            "name": "False",
            "count": 1
           }
          ]
         }
        },
        {
         "name": "feature_2",
         "dtype": "bool",
         "stats": {
          "unique_count": 2,
          "nan_count": 0,
          "categories": [
           {
            "name": "False",
            "count": 4
           },
           {
            "name": "True",
            "count": 1
           }
          ]
         }
        },
        {
         "name": "feature_3",
         "dtype": "bool",
         "stats": {
          "unique_count": 2,
          "nan_count": 0,
          "categories": [
           {
            "name": "False",
            "count": 3
           },
           {
            "name": "True",
            "count": 2
           }
          ]
         }
        },
        {
         "name": "feature_4",
         "dtype": "bool",
         "stats": {
          "unique_count": 2,
          "nan_count": 0,
          "categories": [
           {
            "name": "False",
            "count": 3
           },
           {
            "name": "True",
            "count": 2
           }
          ]
         }
        },
        {
         "name": "feature_5",
         "dtype": "bool",
         "stats": {
          "unique_count": 2,
          "nan_count": 0,
          "categories": [
           {
            "name": "False",
            "count": 3
           },
           {
            "name": "True",
            "count": 2
           }
          ]
         }
        },
        {
         "name": "feature_6",
         "dtype": "bool",
         "stats": {
          "unique_count": 1,
          "nan_count": 0,
          "categories": [
           {
            "name": "False",
            "count": 5
           }
          ]
         }
        },
        {
         "name": "feature_7",
         "dtype": "bool",
         "stats": {
          "unique_count": 2,
          "nan_count": 0,
          "categories": [
           {
            "name": "False",
            "count": 4
           },
           {
            "name": "True",
            "count": 1
           }
          ]
         }
        },
        {
         "name": "feature_8",
         "dtype": "bool",
         "stats": {
          "unique_count": 2,
          "nan_count": 0,
          "categories": [
           {
            "name": "False",
            "count": 3
           },
           {
            "name": "True",
            "count": 2
           }
          ]
         }
        },
        {
         "name": "feature_9",
         "dtype": "bool",
         "stats": {
          "unique_count": 2,
          "nan_count": 0,
          "categories": [
           {
            "name": "True",
            "count": 4
           },
           {
            "name": "False",
            "count": 1
           }
          ]
         }
        },
        {
         "name": "duration_listed",
         "dtype": "int64",
         "stats": {
          "unique_count": 5,
          "nan_count": 0,
          "min": "7",
          "max": "151",
          "histogram": [
           {
            "bin_start": 7,
            "bin_end": 21.4,
            "count": 2
           },
           {
            "bin_start": 21.4,
            "bin_end": 35.8,
            "count": 0
           },
           {
            "bin_start": 35.8,
            "bin_end": 50.2,
            "count": 0
           },
           {
            "bin_start": 50.2,
            "bin_end": 64.6,
            "count": 0
           },
           {
            "bin_start": 64.6,
            "bin_end": 79,
            "count": 0
           },
           {
            "bin_start": 79,
            "bin_end": 93.4,
            "count": 2
           },
           {
            "bin_start": 93.4,
            "bin_end": 107.8,
            "count": 0
           },
           {
            "bin_start": 107.8,
            "bin_end": 122.2,
            "count": 0
           },
           {
            "bin_start": 122.2,
            "bin_end": 136.6,
            "count": 0
           },
           {
            "bin_start": 136.6,
            "bin_end": 151,
            "count": 1
           }
          ]
         }
        },
        {
         "name": "_deepnote_index_column",
         "dtype": "int64"
        }
       ],
       "rows_top": [
        {
         "manufacturer_name": "Subaru",
         "model_name": "Outback",
         "transmission": "automatic",
         "color": "silver",
         "odometer_value": 190000,
         "year_produced": 2010,
         "engine_fuel": "gasoline",
         "engine_has_gas": false,
         "engine_type": "gasoline",
         "engine_capacity": 2.5,
         "body_type": "universal",
         "has_warranty": false,
         "state": "owned",
         "drivetrain": "all",
         "price_usd": 10900,
         "is_exchangeable": false,
         "location_region": "Минская обл.",
         "number_of_photos": 9,
         "up_counter": 13,
         "feature_0": false,
         "feature_1": true,
         "feature_2": true,
         "feature_3": true,
         "feature_4": false,
         "feature_5": true,
         "feature_6": false,
         "feature_7": true,
         "feature_8": true,
         "feature_9": true,
         "duration_listed": 16,
         "_deepnote_index_column": 0
        },
        {
         "manufacturer_name": "Subaru",
         "model_name": "Outback",
         "transmission": "automatic",
         "color": "blue",
         "odometer_value": 290000,
         "year_produced": 2002,
         "engine_fuel": "gasoline",
         "engine_has_gas": false,
         "engine_type": "gasoline",
         "engine_capacity": 3,
         "body_type": "universal",
         "has_warranty": false,
         "state": "owned",
         "drivetrain": "all",
         "price_usd": 5000,
         "is_exchangeable": true,
         "location_region": "Минская обл.",
         "number_of_photos": 12,
         "up_counter": 54,
         "feature_0": false,
         "feature_1": true,
         "feature_2": false,
         "feature_3": false,
         "feature_4": true,
         "feature_5": true,
         "feature_6": false,
         "feature_7": false,
         "feature_8": false,
         "feature_9": true,
         "duration_listed": 83,
         "_deepnote_index_column": 1
        },
        {
         "manufacturer_name": "Subaru",
         "model_name": "Forester",
         "transmission": "automatic",
         "color": "red",
         "odometer_value": 402000,
         "year_produced": 2001,
         "engine_fuel": "gasoline",
         "engine_has_gas": false,
         "engine_type": "gasoline",
         "engine_capacity": 2.5,
         "body_type": "suv",
         "has_warranty": false,
         "state": "owned",
         "drivetrain": "all",
         "price_usd": 2800,
         "is_exchangeable": true,
         "location_region": "Минская обл.",
         "number_of_photos": 4,
         "up_counter": 72,
         "feature_0": false,
         "feature_1": true,
         "feature_2": false,
         "feature_3": false,
         "feature_4": false,
         "feature_5": false,
         "feature_6": false,
         "feature_7": false,
         "feature_8": true,
         "feature_9": true,
         "duration_listed": 151,
         "_deepnote_index_column": 2
        },
        {
         "manufacturer_name": "Subaru",
         "model_name": "Impreza",
         "transmission": "mechanical",
         "color": "blue",
         "odometer_value": 10000,
         "year_produced": 1999,
         "engine_fuel": "gasoline",
         "engine_has_gas": false,
         "engine_type": "gasoline",
         "engine_capacity": 3,
         "body_type": "sedan",
         "has_warranty": false,
         "state": "owned",
         "drivetrain": "all",
         "price_usd": 9999,
         "is_exchangeable": true,
         "location_region": "Минская обл.",
         "number_of_photos": 9,
         "up_counter": 42,
         "feature_0": true,
         "feature_1": false,
         "feature_2": false,
         "feature_3": false,
         "feature_4": false,
         "feature_5": false,
         "feature_6": false,
         "feature_7": false,
         "feature_8": false,
         "feature_9": false,
         "duration_listed": 86,
         "_deepnote_index_column": 3
        },
        {
         "manufacturer_name": "Subaru",
         "model_name": "Legacy",
         "transmission": "automatic",
         "color": "black",
         "odometer_value": 280000,
         "year_produced": 2001,
         "engine_fuel": "gasoline",
         "engine_has_gas": false,
         "engine_type": "gasoline",
         "engine_capacity": 2.5,
         "body_type": "universal",
         "has_warranty": false,
         "state": "owned",
         "drivetrain": "all",
         "price_usd": 2134.11,
         "is_exchangeable": true,
         "location_region": "Гомельская обл.",
         "number_of_photos": 14,
         "up_counter": 7,
         "feature_0": false,
         "feature_1": true,
         "feature_2": false,
         "feature_3": true,
         "feature_4": true,
         "feature_5": false,
         "feature_6": false,
         "feature_7": false,
         "feature_8": false,
         "feature_9": true,
         "duration_listed": 7,
         "_deepnote_index_column": 4
        }
       ],
       "rows_bottom": null
      },
      "text/plain": "  manufacturer_name model_name transmission   color  odometer_value  \\\n0            Subaru    Outback    automatic  silver          190000   \n1            Subaru    Outback    automatic    blue          290000   \n2            Subaru   Forester    automatic     red          402000   \n3            Subaru    Impreza   mechanical    blue           10000   \n4            Subaru     Legacy    automatic   black          280000   \n\n   year_produced engine_fuel  engine_has_gas engine_type  engine_capacity  \\\n0           2010    gasoline           False    gasoline              2.5   \n1           2002    gasoline           False    gasoline              3.0   \n2           2001    gasoline           False    gasoline              2.5   \n3           1999    gasoline           False    gasoline              3.0   \n4           2001    gasoline           False    gasoline              2.5   \n\n   ... feature_1  feature_2 feature_3 feature_4  feature_5  feature_6  \\\n0  ...      True       True      True     False       True      False   \n1  ...      True      False     False      True       True      False   \n2  ...      True      False     False     False      False      False   \n3  ...     False      False     False     False      False      False   \n4  ...      True      False      True      True      False      False   \n\n  feature_7  feature_8  feature_9  duration_listed  \n0      True       True       True               16  \n1     False      False       True               83  \n2     False       True       True              151  \n3     False      False      False               86  \n4     False      False       True                7  \n\n[5 rows x 30 columns]",
      "text/html": "<div>\n<style scoped>\n    .dataframe tbody tr th:only-of-type {\n        vertical-align: middle;\n    }\n\n    .dataframe tbody tr th {\n        vertical-align: top;\n    }\n\n    .dataframe thead th {\n        text-align: right;\n    }\n</style>\n<table border=\"1\" class=\"dataframe\">\n  <thead>\n    <tr style=\"text-align: right;\">\n      <th></th>\n      <th>manufacturer_name</th>\n      <th>model_name</th>\n      <th>transmission</th>\n      <th>color</th>\n      <th>odometer_value</th>\n      <th>year_produced</th>\n      <th>engine_fuel</th>\n      <th>engine_has_gas</th>\n      <th>engine_type</th>\n      <th>engine_capacity</th>\n      <th>...</th>\n      <th>feature_1</th>\n      <th>feature_2</th>\n      <th>feature_3</th>\n      <th>feature_4</th>\n      <th>feature_5</th>\n      <th>feature_6</th>\n      <th>feature_7</th>\n      <th>feature_8</th>\n      <th>feature_9</th>\n      <th>duration_listed</th>\n    </tr>\n  </thead>\n  <tbody>\n    <tr>\n      <th>0</th>\n      <td>Subaru</td>\n      <td>Outback</td>\n      <td>automatic</td>\n      <td>silver</td>\n      <td>190000</td>\n      <td>2010</td>\n      <td>gasoline</td>\n      <td>False</td>\n      <td>gasoline</td>\n      <td>2.5</td>\n      <td>...</td>\n      <td>True</td>\n      <td>True</td>\n      <td>True</td>\n      <td>False</td>\n      <td>True</td>\n      <td>False</td>\n      <td>True</td>\n      <td>True</td>\n      <td>True</td>\n      <td>16</td>\n    </tr>\n    <tr>\n      <th>1</th>\n      <td>Subaru</td>\n      <td>Outback</td>\n      <td>automatic</td>\n      <td>blue</td>\n      <td>290000</td>\n      <td>2002</td>\n      <td>gasoline</td>\n      <td>False</td>\n      <td>gasoline</td>\n      <td>3.0</td>\n      <td>...</td>\n      <td>True</td>\n      <td>False</td>\n      <td>False</td>\n      <td>True</td>\n      <td>True</td>\n      <td>False</td>\n      <td>False</td>\n      <td>False</td>\n      <td>True</td>\n      <td>83</td>\n    </tr>\n    <tr>\n      <th>2</th>\n      <td>Subaru</td>\n      <td>Forester</td>\n      <td>automatic</td>\n      <td>red</td>\n      <td>402000</td>\n      <td>2001</td>\n      <td>gasoline</td>\n      <td>False</td>\n      <td>gasoline</td>\n      <td>2.5</td>\n      <td>...</td>\n      <td>True</td>\n      <td>False</td>\n      <td>False</td>\n      <td>False</td>\n      <td>False</td>\n      <td>False</td>\n      <td>False</td>\n      <td>True</td>\n      <td>True</td>\n      <td>151</td>\n    </tr>\n    <tr>\n      <th>3</th>\n      <td>Subaru</td>\n      <td>Impreza</td>\n      <td>mechanical</td>\n      <td>blue</td>\n      <td>10000</td>\n      <td>1999</td>\n      <td>gasoline</td>\n      <td>False</td>\n      <td>gasoline</td>\n      <td>3.0</td>\n      <td>...</td>\n      <td>False</td>\n      <td>False</td>\n      <td>False</td>\n      <td>False</td>\n      <td>False</td>\n      <td>False</td>\n      <td>False</td>\n      <td>False</td>\n      <td>False</td>\n      <td>86</td>\n    </tr>\n    <tr>\n      <th>4</th>\n      <td>Subaru</td>\n      <td>Legacy</td>\n      <td>automatic</td>\n      <td>black</td>\n      <td>280000</td>\n      <td>2001</td>\n      <td>gasoline</td>\n      <td>False</td>\n      <td>gasoline</td>\n      <td>2.5</td>\n      <td>...</td>\n      <td>True</td>\n      <td>False</td>\n      <td>True</td>\n      <td>True</td>\n      <td>False</td>\n      <td>False</td>\n      <td>False</td>\n      <td>False</td>\n      <td>True</td>\n      <td>7</td>\n    </tr>\n  </tbody>\n</table>\n<p>5 rows × 30 columns</p>\n</div>"
     },
     "metadata": {}
    }
   ],
   "execution_count": null
  },
  {
   "cell_type": "markdown",
   "source": "inspeccionemos el atributo de `price_usd` **(variable numérica continua)** de los autos listados en el dataset:",
   "metadata": {
    "tags": [],
    "cell_id": "00003-5bab5b0d-41f4-4fa7-833b-7f9bf950b644",
    "deepnote_cell_type": "markdown"
   }
  },
  {
   "cell_type": "code",
   "metadata": {
    "tags": [],
    "deepnote_to_be_reexecuted": false,
    "source_hash": "bc174504",
    "execution_millis": 7,
    "execution_start": 1637201841645,
    "cell_id": "00002-e401d9fc-ec69-4479-b714-b0ae09329840",
    "output_cleared": false,
    "deepnote_cell_type": "code"
   },
   "source": "df['price_usd'].mean()",
   "outputs": [
    {
     "output_type": "execute_result",
     "execution_count": 3,
     "data": {
      "text/plain": "6639.971021255613"
     },
     "metadata": {}
    }
   ],
   "execution_count": null
  },
  {
   "cell_type": "code",
   "metadata": {
    "tags": [],
    "deepnote_to_be_reexecuted": false,
    "source_hash": "b7a97061",
    "execution_millis": 18,
    "execution_start": 1637201844570,
    "cell_id": "00004-76438628-17f7-42fd-b624-30a9d1940c9c",
    "output_cleared": false,
    "deepnote_cell_type": "code"
   },
   "source": "df['price_usd'].median()",
   "outputs": [
    {
     "output_type": "execute_result",
     "execution_count": 4,
     "data": {
      "text/plain": "4800.0"
     },
     "metadata": {}
    }
   ],
   "execution_count": null
  },
  {
   "cell_type": "code",
   "metadata": {
    "tags": [],
    "cell_id": "00005-40382fd8-491d-487e-958f-cf27c670a3f1",
    "deepnote_to_be_reexecuted": false,
    "source_hash": "227da611",
    "execution_start": 1637202116982,
    "execution_millis": 327,
    "output_cleared": false,
    "deepnote_cell_type": "code"
   },
   "source": "df['price_usd'].plot.hist(bins=40)",
   "outputs": [
    {
     "output_type": "execute_result",
     "execution_count": 14,
     "data": {
      "text/plain": "<AxesSubplot:ylabel='Frequency'>"
     },
     "metadata": {}
    },
    {
     "data": {
      "text/plain": "<Figure size 432x288 with 1 Axes>",
      "image/png": "[encoded data removed]"
     },
     "metadata": {
      "needs_background": "light",
      "image/png": {
       "width": 395,
       "height": 248
      }
     },
     "output_type": "display_data"
    }
   ],
   "execution_count": null
  },
  {
   "cell_type": "markdown",
   "source": "resulta más interesante analizar los precios por marcas: \n\n* **pro tip:** usar seaborn: https://seaborn.pydata.org/tutorial/distributions.html",
   "metadata": {
    "tags": [],
    "cell_id": "00007-52fff311-495a-4d27-bdb2-642ccf7322eb",
    "deepnote_cell_type": "markdown"
   }
  },
  {
   "cell_type": "code",
   "metadata": {
    "tags": [],
    "deepnote_to_be_reexecuted": false,
    "source_hash": "d5a94b2e",
    "execution_start": 1637202146358,
    "execution_millis": 27030,
    "cell_id": "00008-ebc08b64-affc-4f34-a032-6d4358179ba5",
    "output_cleared": false,
    "deepnote_cell_type": "code"
   },
   "source": "import seaborn as sns\n\nsns.displot(df, x = 'price_usd', hue = 'manufacturer_name')",
   "outputs": [
    {
     "output_type": "execute_result",
     "execution_count": 15,
     "data": {
      "text/plain": "<seaborn.axisgrid.FacetGrid at 0x7f9e3f1bd990>"
     },
     "metadata": {}
    },
    {
     "data": {
      "text/plain": "<Figure size 471.75x360 with 1 Axes>",
      "image/png": "[encoded data removed]"
     },
     "metadata": {
      "needs_background": "light",
      "image/png": {
       "width": 470,
       "height": 858
      }
     },
     "output_type": "display_data"
    }
   ],
   "execution_count": null
  },
  {
   "cell_type": "code",
   "metadata": {
    "tags": [],
    "cell_id": "00008-1970d9f6-50df-4a73-843a-c67bbd8d552b",
    "deepnote_to_be_reexecuted": false,
    "source_hash": "f543d35b",
    "execution_start": 1637202423046,
    "execution_millis": 1963,
    "deepnote_cell_type": "code"
   },
   "source": "sns.displot(df, x=\"price_usd\", hue=\"engine_type\")",
   "outputs": [
    {
     "output_type": "execute_result",
     "execution_count": 19,
     "data": {
      "text/plain": "<seaborn.axisgrid.FacetGrid at 0x7f9e392cc150>"
     },
     "metadata": {}
    },
    {
     "data": {
      "text/plain": "<Figure size 438x360 with 1 Axes>",
      "image/png": "[encoded data removed]"
     },
     "metadata": {
      "needs_background": "light",
      "image/png": {
       "width": 436,
       "height": 352
      }
     },
     "output_type": "display_data"
    }
   ],
   "execution_count": null
  },
  {
   "cell_type": "markdown",
   "source": "el histograma anterior es muy dificil de analizar, ¿donde están los autos eléctricos?",
   "metadata": {
    "tags": [],
    "cell_id": "00010-76395294-c383-42da-b492-bf0b4d2ca4f2",
    "deepnote_cell_type": "markdown"
   }
  },
  {
   "cell_type": "code",
   "metadata": {
    "tags": [],
    "cell_id": "00008-0bb11463-1e55-46b0-baee-2e646d43796d",
    "deepnote_to_be_reexecuted": false,
    "source_hash": "3a3ac3c2",
    "execution_start": 1637202465307,
    "execution_millis": 2083,
    "output_cleared": false,
    "deepnote_cell_type": "code"
   },
   "source": "sns.displot(df, x='price_usd', hue = 'engine_type', multiple='stack')",
   "outputs": [
    {
     "output_type": "execute_result",
     "execution_count": 21,
     "data": {
      "text/plain": "<seaborn.axisgrid.FacetGrid at 0x7f9e38def910>"
     },
     "metadata": {}
    },
    {
     "data": {
      "text/plain": "<Figure size 438x360 with 1 Axes>",
      "image/png": "[encoded data removed]"
     },
     "metadata": {
      "needs_background": "light",
      "image/png": {
       "width": 436,
       "height": 352
      }
     },
     "output_type": "display_data"
    }
   ],
   "execution_count": null
  },
  {
   "cell_type": "code",
   "metadata": {
    "tags": [],
    "cell_id": "00009-2c3bdab8-0952-43cc-8dc6-a7bcef8753bf",
    "deepnote_to_be_reexecuted": false,
    "source_hash": "4c516938",
    "execution_start": 1637202660748,
    "execution_millis": 124,
    "output_cleared": false,
    "deepnote_cell_type": "code"
   },
   "source": "df.groupby('engine_type').count()",
   "outputs": [
    {
     "output_type": "execute_result",
     "execution_count": 26,
     "data": {
      "application/vnd.deepnote.dataframe.v2+json": {
       "row_count": 3,
       "column_count": 29,
       "columns": [
        {
         "name": "manufacturer_name",
         "dtype": "int64",
         "stats": {
          "unique_count": 3,
          "nan_count": 0,
          "min": "10",
          "max": "25647",
          "histogram": [
           {
            "bin_start": 10,
            "bin_end": 2573.7,
            "count": 1
           },
           {
            "bin_start": 2573.7,
            "bin_end": 5137.4,
            "count": 0
           },
           {
            "bin_start": 5137.4,
            "bin_end": 7701.099999999999,
            "count": 0
           },
           {
            "bin_start": 7701.099999999999,
            "bin_end": 10264.8,
            "count": 0
           },
           {
            "bin_start": 10264.8,
            "bin_end": 12828.5,
            "count": 0
           },
           {
            "bin_start": 12828.5,
            "bin_end": 15392.199999999999,
            "count": 1
           },
           {
            "bin_start": 15392.199999999999,
            "bin_end": 17955.899999999998,
            "count": 0
           },
           {
            "bin_start": 17955.899999999998,
            "bin_end": 20519.6,
            "count": 0
           },
           {
            "bin_start": 20519.6,
            "bin_end": 23083.3,
            "count": 0
           },
           {
            "bin_start": 23083.3,
            "bin_end": 25647,
            "count": 1
           }
          ]
         }
        },
        {
         "name": "model_name",
         "dtype": "int64",
         "stats": {
          "unique_count": 3,
          "nan_count": 0,
          "min": "10",
          "max": "25647",
          "histogram": [
           {
            "bin_start": 10,
            "bin_end": 2573.7,
            "count": 1
           },
           {
            "bin_start": 2573.7,
            "bin_end": 5137.4,
            "count": 0
           },
           {
            "bin_start": 5137.4,
            "bin_end": 7701.099999999999,
            "count": 0
           },
           {
            "bin_start": 7701.099999999999,
            "bin_end": 10264.8,
            "count": 0
           },
           {
            "bin_start": 10264.8,
            "bin_end": 12828.5,
            "count": 0
           },
           {
            "bin_start": 12828.5,
            "bin_end": 15392.199999999999,
            "count": 1
           },
           {
            "bin_start": 15392.199999999999,
            "bin_end": 17955.899999999998,
            "count": 0
           },
           {
            "bin_start": 17955.899999999998,
            "bin_end": 20519.6,
            "count": 0
           },
           {
            "bin_start": 20519.6,
            "bin_end": 23083.3,
            "count": 0
           },
           {
            "bin_start": 23083.3,
            "bin_end": 25647,
            "count": 1
           }
          ]
         }
        },
        {
         "name": "transmission",
         "dtype": "int64",
         "stats": {
          "unique_count": 3,
          "nan_count": 0,
          "min": "10",
          "max": "25647",
          "histogram": [
           {
            "bin_start": 10,
            "bin_end": 2573.7,
            "count": 1
           },
           {
            "bin_start": 2573.7,
            "bin_end": 5137.4,
            "count": 0
           },
           {
            "bin_start": 5137.4,
            "bin_end": 7701.099999999999,
            "count": 0
           },
           {
            "bin_start": 7701.099999999999,
            "bin_end": 10264.8,
            "count": 0
           },
           {
            "bin_start": 10264.8,
            "bin_end": 12828.5,
            "count": 0
           },
           {
            "bin_start": 12828.5,
            "bin_end": 15392.199999999999,
            "count": 1
           },
           {
            "bin_start": 15392.199999999999,
            "bin_end": 17955.899999999998,
            "count": 0
           },
           {
            "bin_start": 17955.899999999998,
            "bin_end": 20519.6,
            "count": 0
           },
           {
            "bin_start": 20519.6,
            "bin_end": 23083.3,
            "count": 0
           },
           {
            "bin_start": 23083.3,
            "bin_end": 25647,
            "count": 1
           }
          ]
         }
        },
        {
         "name": "color",
         "dtype": "int64",
         "stats": {
          "unique_count": 3,
          "nan_count": 0,
          "min": "10",
          "max": "25647",
          "histogram": [
           {
            "bin_start": 10,
            "bin_end": 2573.7,
            "count": 1
           },
           {
            "bin_start": 2573.7,
            "bin_end": 5137.4,
            "count": 0
           },
           {
            "bin_start": 5137.4,
            "bin_end": 7701.099999999999,
            "count": 0
           },
           {
            "bin_start": 7701.099999999999,
            "bin_end": 10264.8,
            "count": 0
           },
           {
            "bin_start": 10264.8,
            "bin_end": 12828.5,
            "count": 0
           },
           {
            "bin_start": 12828.5,
            "bin_end": 15392.199999999999,
            "count": 1
           },
           {
            "bin_start": 15392.199999999999,
            "bin_end": 17955.899999999998,
            "count": 0
           },
           {
            "bin_start": 17955.899999999998,
            "bin_end": 20519.6,
            "count": 0
           },
           {
            "bin_start": 20519.6,
            "bin_end": 23083.3,
            "count": 0
           },
           {
            "bin_start": 23083.3,
            "bin_end": 25647,
            "count": 1
           }
          ]
         }
        },
        {
         "name": "odometer_value",
         "dtype": "int64",
         "stats": {
          "unique_count": 3,
          "nan_count": 0,
          "min": "10",
          "max": "25647",
          "histogram": [
           {
            "bin_start": 10,
            "bin_end": 2573.7,
            "count": 1
           },
           {
            "bin_start": 2573.7,
            "bin_end": 5137.4,
            "count": 0
           },
           {
            "bin_start": 5137.4,
            "bin_end": 7701.099999999999,
            "count": 0
           },
           {
            "bin_start": 7701.099999999999,
            "bin_end": 10264.8,
            "count": 0
           },
           {
            "bin_start": 10264.8,
            "bin_end": 12828.5,
            "count": 0
           },
           {
            "bin_start": 12828.5,
            "bin_end": 15392.199999999999,
            "count": 1
           },
           {
            "bin_start": 15392.199999999999,
            "bin_end": 17955.899999999998,
            "count": 0
           },
           {
            "bin_start": 17955.899999999998,
            "bin_end": 20519.6,
            "count": 0
           },
           {
            "bin_start": 20519.6,
            "bin_end": 23083.3,
            "count": 0
           },
           {
            "bin_start": 23083.3,
            "bin_end": 25647,
            "count": 1
           }
          ]
         }
        },
        {
         "name": "year_produced",
         "dtype": "int64",
         "stats": {
          "unique_count": 3,
          "nan_count": 0,
          "min": "10",
          "max": "25647",
          "histogram": [
           {
            "bin_start": 10,
            "bin_end": 2573.7,
            "count": 1
           },
           {
            "bin_start": 2573.7,
            "bin_end": 5137.4,
            "count": 0
           },
           {
            "bin_start": 5137.4,
            "bin_end": 7701.099999999999,
            "count": 0
           },
           {
            "bin_start": 7701.099999999999,
            "bin_end": 10264.8,
            "count": 0
           },
           {
            "bin_start": 10264.8,
            "bin_end": 12828.5,
            "count": 0
           },
           {
            "bin_start": 12828.5,
            "bin_end": 15392.199999999999,
            "count": 1
           },
           {
            "bin_start": 15392.199999999999,
            "bin_end": 17955.899999999998,
            "count": 0
           },
           {
            "bin_start": 17955.899999999998,
            "bin_end": 20519.6,
            "count": 0
           },
           {
            "bin_start": 20519.6,
            "bin_end": 23083.3,
            "count": 0
           },
           {
            "bin_start": 23083.3,
            "bin_end": 25647,
            "count": 1
           }
          ]
         }
        },
        {
         "name": "engine_fuel",
         "dtype": "int64",
         "stats": {
          "unique_count": 3,
          "nan_count": 0,
          "min": "10",
          "max": "25647",
          "histogram": [
           {
            "bin_start": 10,
            "bin_end": 2573.7,
            "count": 1
           },
           {
            "bin_start": 2573.7,
            "bin_end": 5137.4,
            "count": 0
           },
           {
            "bin_start": 5137.4,
            "bin_end": 7701.099999999999,
            "count": 0
           },
           {
            "bin_start": 7701.099999999999,
            "bin_end": 10264.8,
            "count": 0
           },
           {
            "bin_start": 10264.8,
            "bin_end": 12828.5,
            "count": 0
           },
           {
            "bin_start": 12828.5,
            "bin_end": 15392.199999999999,
            "count": 1
           },
           {
            "bin_start": 15392.199999999999,
            "bin_end": 17955.899999999998,
            "count": 0
           },
           {
            "bin_start": 17955.899999999998,
            "bin_end": 20519.6,
            "count": 0
           },
           {
            "bin_start": 20519.6,
            "bin_end": 23083.3,
            "count": 0
           },
           {
            "bin_start": 23083.3,
            "bin_end": 25647,
            "count": 1
           }
          ]
         }
        },
        {
         "name": "engine_has_gas",
         "dtype": "int64",
         "stats": {
          "unique_count": 3,
          "nan_count": 0,
          "min": "10",
          "max": "25647",
          "histogram": [
           {
            "bin_start": 10,
            "bin_end": 2573.7,
            "count": 1
           },
           {
            "bin_start": 2573.7,
            "bin_end": 5137.4,
            "count": 0
           },
           {
            "bin_start": 5137.4,
            "bin_end": 7701.099999999999,
            "count": 0
           },
           {
            "bin_start": 7701.099999999999,
            "bin_end": 10264.8,
            "count": 0
           },
           {
            "bin_start": 10264.8,
            "bin_end": 12828.5,
            "count": 0
           },
           {
            "bin_start": 12828.5,
            "bin_end": 15392.199999999999,
            "count": 1
           },
           {
            "bin_start": 15392.199999999999,
            "bin_end": 17955.899999999998,
            "count": 0
           },
           {
            "bin_start": 17955.899999999998,
            "bin_end": 20519.6,
            "count": 0
           },
           {
            "bin_start": 20519.6,
            "bin_end": 23083.3,
            "count": 0
           },
           {
            "bin_start": 23083.3,
            "bin_end": 25647,
            "count": 1
           }
          ]
         }
        },
        {
         "name": "engine_capacity",
         "dtype": "int64",
         "stats": {
          "unique_count": 3,
          "nan_count": 0,
          "min": "0",
          "max": "25647",
          "histogram": [
           {
            "bin_start": 0,
            "bin_end": 2564.7,
            "count": 1
           },
           {
            "bin_start": 2564.7,
            "bin_end": 5129.4,
            "count": 0
           },
           {
            "bin_start": 5129.4,
            "bin_end": 7694.099999999999,
            "count": 0
           },
           {
            "bin_start": 7694.099999999999,
            "bin_end": 10258.8,
            "count": 0
           },
           {
            "bin_start": 10258.8,
            "bin_end": 12823.5,
            "count": 0
           },
           {
            "bin_start": 12823.5,
            "bin_end": 15388.199999999999,
            "count": 1
           },
           {
            "bin_start": 15388.199999999999,
            "bin_end": 17952.899999999998,
            "count": 0
           },
           {
            "bin_start": 17952.899999999998,
            "bin_end": 20517.6,
            "count": 0
           },
           {
            "bin_start": 20517.6,
            "bin_end": 23082.3,
            "count": 0
           },
           {
            "bin_start": 23082.3,
            "bin_end": 25647,
            "count": 1
           }
          ]
         }
        },
        {
         "name": "body_type",
         "dtype": "int64",
         "stats": {
          "unique_count": 3,
          "nan_count": 0,
          "min": "10",
          "max": "25647",
          "histogram": [
           {
            "bin_start": 10,
            "bin_end": 2573.7,
            "count": 1
           },
           {
            "bin_start": 2573.7,
            "bin_end": 5137.4,
            "count": 0
           },
           {
            "bin_start": 5137.4,
            "bin_end": 7701.099999999999,
            "count": 0
           },
           {
            "bin_start": 7701.099999999999,
            "bin_end": 10264.8,
            "count": 0
           },
           {
            "bin_start": 10264.8,
            "bin_end": 12828.5,
            "count": 0
           },
           {
            "bin_start": 12828.5,
            "bin_end": 15392.199999999999,
            "count": 1
           },
           {
            "bin_start": 15392.199999999999,
            "bin_end": 17955.899999999998,
            "count": 0
           },
           {
            "bin_start": 17955.899999999998,
            "bin_end": 20519.6,
            "count": 0
           },
           {
            "bin_start": 20519.6,
            "bin_end": 23083.3,
            "count": 0
           },
           {
            "bin_start": 23083.3,
            "bin_end": 25647,
            "count": 1
           }
          ]
         }
        },
        {
         "name": "has_warranty",
         "dtype": "int64",
         "stats": {
          "unique_count": 3,
          "nan_count": 0,
          "min": "10",
          "max": "25647",
          "histogram": [
           {
            "bin_start": 10,
            "bin_end": 2573.7,
            "count": 1
           },
           {
            "bin_start": 2573.7,
            "bin_end": 5137.4,
            "count": 0
           },
           {
            "bin_start": 5137.4,
            "bin_end": 7701.099999999999,
            "count": 0
           },
           {
            "bin_start": 7701.099999999999,
            "bin_end": 10264.8,
            "count": 0
           },
           {
            "bin_start": 10264.8,
            "bin_end": 12828.5,
            "count": 0
           },
           {
            "bin_start": 12828.5,
            "bin_end": 15392.199999999999,
            "count": 1
           },
           {
            "bin_start": 15392.199999999999,
            "bin_end": 17955.899999999998,
            "count": 0
           },
           {
            "bin_start": 17955.899999999998,
            "bin_end": 20519.6,
            "count": 0
           },
           {
            "bin_start": 20519.6,
            "bin_end": 23083.3,
            "count": 0
           },
           {
            "bin_start": 23083.3,
            "bin_end": 25647,
            "count": 1
           }
          ]
         }
        },
        {
         "name": "state",
         "dtype": "int64",
         "stats": {
          "unique_count": 3,
          "nan_count": 0,
          "min": "10",
          "max": "25647",
          "histogram": [
           {
            "bin_start": 10,
            "bin_end": 2573.7,
            "count": 1
           },
           {
            "bin_start": 2573.7,
            "bin_end": 5137.4,
            "count": 0
           },
           {
            "bin_start": 5137.4,
            "bin_end": 7701.099999999999,
            "count": 0
           },
           {
            "bin_start": 7701.099999999999,
            "bin_end": 10264.8,
            "count": 0
           },
           {
            "bin_start": 10264.8,
            "bin_end": 12828.5,
            "count": 0
           },
           {
            "bin_start": 12828.5,
            "bin_end": 15392.199999999999,
            "count": 1
           },
           {
            "bin_start": 15392.199999999999,
            "bin_end": 17955.899999999998,
            "count": 0
           },
           {
            "bin_start": 17955.899999999998,
            "bin_end": 20519.6,
            "count": 0
           },
           {
            "bin_start": 20519.6,
            "bin_end": 23083.3,
            "count": 0
           },
           {
            "bin_start": 23083.3,
            "bin_end": 25647,
            "count": 1
           }
          ]
         }
        },
        {
         "name": "drivetrain",
         "dtype": "int64",
         "stats": {
          "unique_count": 3,
          "nan_count": 0,
          "min": "10",
          "max": "25647",
          "histogram": [
           {
            "bin_start": 10,
            "bin_end": 2573.7,
            "count": 1
           },
           {
            "bin_start": 2573.7,
            "bin_end": 5137.4,
            "count": 0
           },
           {
            "bin_start": 5137.4,
            "bin_end": 7701.099999999999,
            "count": 0
           },
           {
            "bin_start": 7701.099999999999,
            "bin_end": 10264.8,
            "count": 0
           },
           {
            "bin_start": 10264.8,
            "bin_end": 12828.5,
            "count": 0
           },
           {
            "bin_start": 12828.5,
            "bin_end": 15392.199999999999,
            "count": 1
           },
           {
            "bin_start": 15392.199999999999,
            "bin_end": 17955.899999999998,
            "count": 0
           },
           {
            "bin_start": 17955.899999999998,
            "bin_end": 20519.6,
            "count": 0
           },
           {
            "bin_start": 20519.6,
            "bin_end": 23083.3,
            "count": 0
           },
           {
            "bin_start": 23083.3,
            "bin_end": 25647,
            "count": 1
           }
          ]
         }
        },
        {
         "name": "price_usd",
         "dtype": "int64",
         "stats": {
          "unique_count": 3,
          "nan_count": 0,
          "min": "10",
          "max": "25647",
          "histogram": [
           {
            "bin_start": 10,
            "bin_end": 2573.7,
            "count": 1
           },
           {
            "bin_start": 2573.7,
            "bin_end": 5137.4,
            "count": 0
           },
           {
            "bin_start": 5137.4,
            "bin_end": 7701.099999999999,
            "count": 0
           },
           {
            "bin_start": 7701.099999999999,
            "bin_end": 10264.8,
            "count": 0
           },
           {
            "bin_start": 10264.8,
            "bin_end": 12828.5,
            "count": 0
           },
           {
            "bin_start": 12828.5,
            "bin_end": 15392.199999999999,
            "count": 1
           },
           {
            "bin_start": 15392.199999999999,
            "bin_end": 17955.899999999998,
            "count": 0
           },
           {
            "bin_start": 17955.899999999998,
            "bin_end": 20519.6,
            "count": 0
           },
           {
            "bin_start": 20519.6,
            "bin_end": 23083.3,
            "count": 0
           },
           {
            "bin_start": 23083.3,
            "bin_end": 25647,
            "count": 1
           }
          ]
         }
        },
        {
         "name": "is_exchangeable",
         "dtype": "int64",
         "stats": {
          "unique_count": 3,
          "nan_count": 0,
          "min": "10",
          "max": "25647",
          "histogram": [
           {
            "bin_start": 10,
            "bin_end": 2573.7,
            "count": 1
           },
           {
            "bin_start": 2573.7,
            "bin_end": 5137.4,
            "count": 0
           },
           {
            "bin_start": 5137.4,
            "bin_end": 7701.099999999999,
            "count": 0
           },
           {
            "bin_start": 7701.099999999999,
            "bin_end": 10264.8,
            "count": 0
           },
           {
            "bin_start": 10264.8,
            "bin_end": 12828.5,
            "count": 0
           },
           {
            "bin_start": 12828.5,
            "bin_end": 15392.199999999999,
            "count": 1
           },
           {
            "bin_start": 15392.199999999999,
            "bin_end": 17955.899999999998,
            "count": 0
           },
           {
            "bin_start": 17955.899999999998,
            "bin_end": 20519.6,
            "count": 0
           },
           {
            "bin_start": 20519.6,
            "bin_end": 23083.3,
            "count": 0
           },
           {
            "bin_start": 23083.3,
            "bin_end": 25647,
            "count": 1
           }
          ]
         }
        },
        {
         "name": "location_region",
         "dtype": "int64",
         "stats": {
          "unique_count": 3,
          "nan_count": 0,
          "min": "10",
          "max": "25647",
          "histogram": [
           {
            "bin_start": 10,
            "bin_end": 2573.7,
            "count": 1
           },
           {
            "bin_start": 2573.7,
            "bin_end": 5137.4,
            "count": 0
           },
           {
            "bin_start": 5137.4,
            "bin_end": 7701.099999999999,
            "count": 0
           },
           {
            "bin_start": 7701.099999999999,
            "bin_end": 10264.8,
            "count": 0
           },
           {
            "bin_start": 10264.8,
            "bin_end": 12828.5,
            "count": 0
           },
           {
            "bin_start": 12828.5,
            "bin_end": 15392.199999999999,
            "count": 1
           },
           {
            "bin_start": 15392.199999999999,
            "bin_end": 17955.899999999998,
            "count": 0
           },
           {
            "bin_start": 17955.899999999998,
            "bin_end": 20519.6,
            "count": 0
           },
           {
            "bin_start": 20519.6,
            "bin_end": 23083.3,
            "count": 0
           },
           {
            "bin_start": 23083.3,
            "bin_end": 25647,
            "count": 1
           }
          ]
         }
        },
        {
         "name": "number_of_photos",
         "dtype": "int64",
         "stats": {
          "unique_count": 3,
          "nan_count": 0,
          "min": "10",
          "max": "25647",
          "histogram": [
           {
            "bin_start": 10,
            "bin_end": 2573.7,
            "count": 1
           },
           {
            "bin_start": 2573.7,
            "bin_end": 5137.4,
            "count": 0
           },
           {
            "bin_start": 5137.4,
            "bin_end": 7701.099999999999,
            "count": 0
           },
           {
            "bin_start": 7701.099999999999,
            "bin_end": 10264.8,
            "count": 0
           },
           {
            "bin_start": 10264.8,
            "bin_end": 12828.5,
            "count": 0
           },
           {
            "bin_start": 12828.5,
            "bin_end": 15392.199999999999,
            "count": 1
           },
           {
            "bin_start": 15392.199999999999,
            "bin_end": 17955.899999999998,
            "count": 0
           },
           {
            "bin_start": 17955.899999999998,
            "bin_end": 20519.6,
            "count": 0
           },
           {
            "bin_start": 20519.6,
            "bin_end": 23083.3,
            "count": 0
           },
           {
            "bin_start": 23083.3,
            "bin_end": 25647,
            "count": 1
           }
          ]
         }
        },
        {
         "name": "up_counter",
         "dtype": "int64",
         "stats": {
          "unique_count": 3,
          "nan_count": 0,
          "min": "10",
          "max": "25647",
          "histogram": [
           {
            "bin_start": 10,
            "bin_end": 2573.7,
            "count": 1
           },
           {
            "bin_start": 2573.7,
            "bin_end": 5137.4,
            "count": 0
           },
           {
            "bin_start": 5137.4,
            "bin_end": 7701.099999999999,
            "count": 0
           },
           {
            "bin_start": 7701.099999999999,
            "bin_end": 10264.8,
            "count": 0
           },
           {
            "bin_start": 10264.8,
            "bin_end": 12828.5,
            "count": 0
           },
           {
            "bin_start": 12828.5,
            "bin_end": 15392.199999999999,
            "count": 1
           },
           {
            "bin_start": 15392.199999999999,
            "bin_end": 17955.899999999998,
            "count": 0
           },
           {
            "bin_start": 17955.899999999998,
            "bin_end": 20519.6,
            "count": 0
           },
           {
            "bin_start": 20519.6,
            "bin_end": 23083.3,
            "count": 0
           },
           {
            "bin_start": 23083.3,
            "bin_end": 25647,
            "count": 1
           }
          ]
         }
        },
        {
         "name": "feature_0",
         "dtype": "int64",
         "stats": {
          "unique_count": 3,
          "nan_count": 0,
          "min": "10",
          "max": "25647",
          "histogram": [
           {
            "bin_start": 10,
            "bin_end": 2573.7,
            "count": 1
           },
           {
            "bin_start": 2573.7,
            "bin_end": 5137.4,
            "count": 0
           },
           {
            "bin_start": 5137.4,
            "bin_end": 7701.099999999999,
            "count": 0
           },
           {
            "bin_start": 7701.099999999999,
            "bin_end": 10264.8,
            "count": 0
           },
           {
            "bin_start": 10264.8,
            "bin_end": 12828.5,
            "count": 0
           },
           {
            "bin_start": 12828.5,
            "bin_end": 15392.199999999999,
            "count": 1
           },
           {
            "bin_start": 15392.199999999999,
            "bin_end": 17955.899999999998,
            "count": 0
           },
           {
            "bin_start": 17955.899999999998,
            "bin_end": 20519.6,
            "count": 0
           },
           {
            "bin_start": 20519.6,
            "bin_end": 23083.3,
            "count": 0
           },
           {
            "bin_start": 23083.3,
            "bin_end": 25647,
            "count": 1
           }
          ]
         }
        },
        {
         "name": "feature_1",
         "dtype": "int64",
         "stats": {
          "unique_count": 3,
          "nan_count": 0,
          "min": "10",
          "max": "25647",
          "histogram": [
           {
            "bin_start": 10,
            "bin_end": 2573.7,
            "count": 1
           },
           {
            "bin_start": 2573.7,
            "bin_end": 5137.4,
            "count": 0
           },
           {
            "bin_start": 5137.4,
            "bin_end": 7701.099999999999,
            "count": 0
           },
           {
            "bin_start": 7701.099999999999,
            "bin_end": 10264.8,
            "count": 0
           },
           {
            "bin_start": 10264.8,
            "bin_end": 12828.5,
            "count": 0
           },
           {
            "bin_start": 12828.5,
            "bin_end": 15392.199999999999,
            "count": 1
           },
           {
            "bin_start": 15392.199999999999,
            "bin_end": 17955.899999999998,
            "count": 0
           },
           {
            "bin_start": 17955.899999999998,
            "bin_end": 20519.6,
            "count": 0
           },
           {
            "bin_start": 20519.6,
            "bin_end": 23083.3,
            "count": 0
           },
           {
            "bin_start": 23083.3,
            "bin_end": 25647,
            "count": 1
           }
          ]
         }
        },
        {
         "name": "feature_2",
         "dtype": "int64",
         "stats": {
          "unique_count": 3,
          "nan_count": 0,
          "min": "10",
          "max": "25647",
          "histogram": [
           {
            "bin_start": 10,
            "bin_end": 2573.7,
            "count": 1
           },
           {
            "bin_start": 2573.7,
            "bin_end": 5137.4,
            "count": 0
           },
           {
            "bin_start": 5137.4,
            "bin_end": 7701.099999999999,
            "count": 0
           },
           {
            "bin_start": 7701.099999999999,
            "bin_end": 10264.8,
            "count": 0
           },
           {
            "bin_start": 10264.8,
            "bin_end": 12828.5,
            "count": 0
           },
           {
            "bin_start": 12828.5,
            "bin_end": 15392.199999999999,
            "count": 1
           },
           {
            "bin_start": 15392.199999999999,
            "bin_end": 17955.899999999998,
            "count": 0
           },
           {
            "bin_start": 17955.899999999998,
            "bin_end": 20519.6,
            "count": 0
           },
           {
            "bin_start": 20519.6,
            "bin_end": 23083.3,
            "count": 0
           },
           {
            "bin_start": 23083.3,
            "bin_end": 25647,
            "count": 1
           }
          ]
         }
        },
        {
         "name": "feature_3",
         "dtype": "int64",
         "stats": {
          "unique_count": 3,
          "nan_count": 0,
          "min": "10",
          "max": "25647",
          "histogram": [
           {
            "bin_start": 10,
            "bin_end": 2573.7,
            "count": 1
           },
           {
            "bin_start": 2573.7,
            "bin_end": 5137.4,
            "count": 0
           },
           {
            "bin_start": 5137.4,
            "bin_end": 7701.099999999999,
            "count": 0
           },
           {
            "bin_start": 7701.099999999999,
            "bin_end": 10264.8,
            "count": 0
           },
           {
            "bin_start": 10264.8,
            "bin_end": 12828.5,
            "count": 0
           },
           {
            "bin_start": 12828.5,
            "bin_end": 15392.199999999999,
            "count": 1
           },
           {
            "bin_start": 15392.199999999999,
            "bin_end": 17955.899999999998,
            "count": 0
           },
           {
            "bin_start": 17955.899999999998,
            "bin_end": 20519.6,
            "count": 0
           },
           {
            "bin_start": 20519.6,
            "bin_end": 23083.3,
            "count": 0
           },
           {
            "bin_start": 23083.3,
            "bin_end": 25647,
            "count": 1
           }
          ]
         }
        },
        {
         "name": "feature_4",
         "dtype": "int64",
         "stats": {
          "unique_count": 3,
          "nan_count": 0,
          "min": "10",
          "max": "25647",
          "histogram": [
           {
            "bin_start": 10,
            "bin_end": 2573.7,
            "count": 1
           },
           {
            "bin_start": 2573.7,
            "bin_end": 5137.4,
            "count": 0
           },
           {
            "bin_start": 5137.4,
            "bin_end": 7701.099999999999,
            "count": 0
           },
           {
            "bin_start": 7701.099999999999,
            "bin_end": 10264.8,
            "count": 0
           },
           {
            "bin_start": 10264.8,
            "bin_end": 12828.5,
            "count": 0
           },
           {
            "bin_start": 12828.5,
            "bin_end": 15392.199999999999,
            "count": 1
           },
           {
            "bin_start": 15392.199999999999,
            "bin_end": 17955.899999999998,
            "count": 0
           },
           {
            "bin_start": 17955.899999999998,
            "bin_end": 20519.6,
            "count": 0
           },
           {
            "bin_start": 20519.6,
            "bin_end": 23083.3,
            "count": 0
           },
           {
            "bin_start": 23083.3,
            "bin_end": 25647,
            "count": 1
           }
          ]
         }
        },
        {
         "name": "feature_5",
         "dtype": "int64",
         "stats": {
          "unique_count": 3,
          "nan_count": 0,
          "min": "10",
          "max": "25647",
          "histogram": [
           {
            "bin_start": 10,
            "bin_end": 2573.7,
            "count": 1
           },
           {
            "bin_start": 2573.7,
            "bin_end": 5137.4,
            "count": 0
           },
           {
            "bin_start": 5137.4,
            "bin_end": 7701.099999999999,
            "count": 0
           },
           {
            "bin_start": 7701.099999999999,
            "bin_end": 10264.8,
            "count": 0
           },
           {
            "bin_start": 10264.8,
            "bin_end": 12828.5,
            "count": 0
           },
           {
            "bin_start": 12828.5,
            "bin_end": 15392.199999999999,
            "count": 1
           },
           {
            "bin_start": 15392.199999999999,
            "bin_end": 17955.899999999998,
            "count": 0
           },
           {
            "bin_start": 17955.899999999998,
            "bin_end": 20519.6,
            "count": 0
           },
           {
            "bin_start": 20519.6,
            "bin_end": 23083.3,
            "count": 0
           },
           {
            "bin_start": 23083.3,
            "bin_end": 25647,
            "count": 1
           }
          ]
         }
        },
        {
         "name": "feature_6",
         "dtype": "int64",
         "stats": {
          "unique_count": 3,
          "nan_count": 0,
          "min": "10",
          "max": "25647",
          "histogram": [
           {
            "bin_start": 10,
            "bin_end": 2573.7,
            "count": 1
           },
           {
            "bin_start": 2573.7,
            "bin_end": 5137.4,
            "count": 0
           },
           {
            "bin_start": 5137.4,
            "bin_end": 7701.099999999999,
            "count": 0
           },
           {
            "bin_start": 7701.099999999999,
            "bin_end": 10264.8,
            "count": 0
           },
           {
            "bin_start": 10264.8,
            "bin_end": 12828.5,
            "count": 0
           },
           {
            "bin_start": 12828.5,
            "bin_end": 15392.199999999999,
            "count": 1
           },
           {
            "bin_start": 15392.199999999999,
            "bin_end": 17955.899999999998,
            "count": 0
           },
           {
            "bin_start": 17955.899999999998,
            "bin_end": 20519.6,
            "count": 0
           },
           {
            "bin_start": 20519.6,
            "bin_end": 23083.3,
            "count": 0
           },
           {
            "bin_start": 23083.3,
            "bin_end": 25647,
            "count": 1
           }
          ]
         }
        },
        {
         "name": "feature_7",
         "dtype": "int64",
         "stats": {
          "unique_count": 3,
          "nan_count": 0,
          "min": "10",
          "max": "25647",
          "histogram": [
           {
            "bin_start": 10,
            "bin_end": 2573.7,
            "count": 1
           },
           {
            "bin_start": 2573.7,
            "bin_end": 5137.4,
            "count": 0
           },
           {
            "bin_start": 5137.4,
            "bin_end": 7701.099999999999,
            "count": 0
           },
           {
            "bin_start": 7701.099999999999,
            "bin_end": 10264.8,
            "count": 0
           },
           {
            "bin_start": 10264.8,
            "bin_end": 12828.5,
            "count": 0
           },
           {
            "bin_start": 12828.5,
            "bin_end": 15392.199999999999,
            "count": 1
           },
           {
            "bin_start": 15392.199999999999,
            "bin_end": 17955.899999999998,
            "count": 0
           },
           {
            "bin_start": 17955.899999999998,
            "bin_end": 20519.6,
            "count": 0
           },
           {
            "bin_start": 20519.6,
            "bin_end": 23083.3,
            "count": 0
           },
           {
            "bin_start": 23083.3,
            "bin_end": 25647,
            "count": 1
           }
          ]
         }
        },
        {
         "name": "feature_8",
         "dtype": "int64",
         "stats": {
          "unique_count": 3,
          "nan_count": 0,
          "min": "10",
          "max": "25647",
          "histogram": [
           {
            "bin_start": 10,
            "bin_end": 2573.7,
            "count": 1
           },
           {
            "bin_start": 2573.7,
            "bin_end": 5137.4,
            "count": 0
           },
           {
            "bin_start": 5137.4,
            "bin_end": 7701.099999999999,
            "count": 0
           },
           {
            "bin_start": 7701.099999999999,
            "bin_end": 10264.8,
            "count": 0
           },
           {
            "bin_start": 10264.8,
            "bin_end": 12828.5,
            "count": 0
           },
           {
            "bin_start": 12828.5,
            "bin_end": 15392.199999999999,
            "count": 1
           },
           {
            "bin_start": 15392.199999999999,
            "bin_end": 17955.899999999998,
            "count": 0
           },
           {
            "bin_start": 17955.899999999998,
            "bin_end": 20519.6,
            "count": 0
           },
           {
            "bin_start": 20519.6,
            "bin_end": 23083.3,
            "count": 0
           },
           {
            "bin_start": 23083.3,
            "bin_end": 25647,
            "count": 1
           }
          ]
         }
        },
        {
         "name": "feature_9",
         "dtype": "int64",
         "stats": {
          "unique_count": 3,
          "nan_count": 0,
          "min": "10",
          "max": "25647",
          "histogram": [
           {
            "bin_start": 10,
            "bin_end": 2573.7,
            "count": 1
           },
           {
            "bin_start": 2573.7,
            "bin_end": 5137.4,
            "count": 0
           },
           {
            "bin_start": 5137.4,
            "bin_end": 7701.099999999999,
            "count": 0
           },
           {
            "bin_start": 7701.099999999999,
            "bin_end": 10264.8,
            "count": 0
           },
           {
            "bin_start": 10264.8,
            "bin_end": 12828.5,
            "count": 0
           },
           {
            "bin_start": 12828.5,
            "bin_end": 15392.199999999999,
            "count": 1
           },
           {
            "bin_start": 15392.199999999999,
            "bin_end": 17955.899999999998,
            "count": 0
           },
           {
            "bin_start": 17955.899999999998,
            "bin_end": 20519.6,
            "count": 0
           },
           {
            "bin_start": 20519.6,
            "bin_end": 23083.3,
            "count": 0
           },
           {
            "bin_start": 23083.3,
            "bin_end": 25647,
            "count": 1
           }
          ]
         }
        },
        {
         "name": "duration_listed",
         "dtype": "int64",
         "stats": {
          "unique_count": 3,
          "nan_count": 0,
          "min": "10",
          "max": "25647",
          "histogram": [
           {
            "bin_start": 10,
            "bin_end": 2573.7,
            "count": 1
           },
           {
            "bin_start": 2573.7,
            "bin_end": 5137.4,
            "count": 0
           },
           {
            "bin_start": 5137.4,
            "bin_end": 7701.099999999999,
            "count": 0
           },
           {
            "bin_start": 7701.099999999999,
            "bin_end": 10264.8,
            "count": 0
           },
           {
            "bin_start": 10264.8,
            "bin_end": 12828.5,
            "count": 0
           },
           {
            "bin_start": 12828.5,
            "bin_end": 15392.199999999999,
            "count": 1
           },
           {
            "bin_start": 15392.199999999999,
            "bin_end": 17955.899999999998,
            "count": 0
           },
           {
            "bin_start": 17955.899999999998,
            "bin_end": 20519.6,
            "count": 0
           },
           {
            "bin_start": 20519.6,
            "bin_end": 23083.3,
            "count": 0
           },
           {
            "bin_start": 23083.3,
            "bin_end": 25647,
            "count": 1
           }
          ]
         }
        },
        {
         "name": "_deepnote_index_column",
         "dtype": "object"
        }
       ],
       "rows_top": [
        {
         "manufacturer_name": 12874,
         "model_name": 12874,
         "transmission": 12874,
         "color": 12874,
         "odometer_value": 12874,
         "year_produced": 12874,
         "engine_fuel": 12874,
         "engine_has_gas": 12874,
         "engine_capacity": 12874,
         "body_type": 12874,
         "has_warranty": 12874,
         "state": 12874,
         "drivetrain": 12874,
         "price_usd": 12874,
         "is_exchangeable": 12874,
         "location_region": 12874,
         "number_of_photos": 12874,
         "up_counter": 12874,
         "feature_0": 12874,
         "feature_1": 12874,
         "feature_2": 12874,
         "feature_3": 12874,
         "feature_4": 12874,
         "feature_5": 12874,
         "feature_6": 12874,
         "feature_7": 12874,
         "feature_8": 12874,
         "feature_9": 12874,
         "duration_listed": 12874,
         "_deepnote_index_column": "diesel"
        },
        {
         "manufacturer_name": 10,
         "model_name": 10,
         "transmission": 10,
         "color": 10,
         "odometer_value": 10,
         "year_produced": 10,
         "engine_fuel": 10,
         "engine_has_gas": 10,
         "engine_capacity": 0,
         "body_type": 10,
         "has_warranty": 10,
         "state": 10,
         "drivetrain": 10,
         "price_usd": 10,
         "is_exchangeable": 10,
         "location_region": 10,
         "number_of_photos": 10,
         "up_counter": 10,
         "feature_0": 10,
         "feature_1": 10,
         "feature_2": 10,
         "feature_3": 10,
         "feature_4": 10,
         "feature_5": 10,
         "feature_6": 10,
         "feature_7": 10,
         "feature_8": 10,
         "feature_9": 10,
         "duration_listed": 10,
         "_deepnote_index_column": "electric"
        },
        {
         "manufacturer_name": 25647,
         "model_name": 25647,
         "transmission": 25647,
         "color": 25647,
         "odometer_value": 25647,
         "year_produced": 25647,
         "engine_fuel": 25647,
         "engine_has_gas": 25647,
         "engine_capacity": 25647,
         "body_type": 25647,
         "has_warranty": 25647,
         "state": 25647,
         "drivetrain": 25647,
         "price_usd": 25647,
         "is_exchangeable": 25647,
         "location_region": 25647,
         "number_of_photos": 25647,
         "up_counter": 25647,
         "feature_0": 25647,
         "feature_1": 25647,
         "feature_2": 25647,
         "feature_3": 25647,
         "feature_4": 25647,
         "feature_5": 25647,
         "feature_6": 25647,
         "feature_7": 25647,
         "feature_8": 25647,
         "feature_9": 25647,
         "duration_listed": 25647,
         "_deepnote_index_column": "gasoline"
        }
       ],
       "rows_bottom": null
      },
      "text/plain": "             manufacturer_name  model_name  transmission  color  \\\nengine_type                                                       \ndiesel                   12874       12874         12874  12874   \nelectric                    10          10            10     10   \ngasoline                 25647       25647         25647  25647   \n\n             odometer_value  year_produced  engine_fuel  engine_has_gas  \\\nengine_type                                                               \ndiesel                12874          12874        12874           12874   \nelectric                 10             10           10              10   \ngasoline              25647          25647        25647           25647   \n\n             engine_capacity  body_type  ...  feature_1  feature_2  feature_3  \\\nengine_type                              ...                                    \ndiesel                 12874      12874  ...      12874      12874      12874   \nelectric                   0         10  ...         10         10         10   \ngasoline               25647      25647  ...      25647      25647      25647   \n\n             feature_4  feature_5  feature_6  feature_7  feature_8  feature_9  \\\nengine_type                                                                     \ndiesel           12874      12874      12874      12874      12874      12874   \nelectric            10         10         10         10         10         10   \ngasoline         25647      25647      25647      25647      25647      25647   \n\n             duration_listed  \nengine_type                   \ndiesel                 12874  \nelectric                  10  \ngasoline               25647  \n\n[3 rows x 29 columns]",
      "text/html": "<div>\n<style scoped>\n    .dataframe tbody tr th:only-of-type {\n        vertical-align: middle;\n    }\n\n    .dataframe tbody tr th {\n        vertical-align: top;\n    }\n\n    .dataframe thead th {\n        text-align: right;\n    }\n</style>\n<table border=\"1\" class=\"dataframe\">\n  <thead>\n    <tr style=\"text-align: right;\">\n      <th></th>\n      <th>manufacturer_name</th>\n      <th>model_name</th>\n      <th>transmission</th>\n      <th>color</th>\n      <th>odometer_value</th>\n      <th>year_produced</th>\n      <th>engine_fuel</th>\n      <th>engine_has_gas</th>\n      <th>engine_capacity</th>\n      <th>body_type</th>\n      <th>...</th>\n      <th>feature_1</th>\n      <th>feature_2</th>\n      <th>feature_3</th>\n      <th>feature_4</th>\n      <th>feature_5</th>\n      <th>feature_6</th>\n      <th>feature_7</th>\n      <th>feature_8</th>\n      <th>feature_9</th>\n      <th>duration_listed</th>\n    </tr>\n    <tr>\n      <th>engine_type</th>\n      <th></th>\n      <th></th>\n      <th></th>\n      <th></th>\n      <th></th>\n      <th></th>\n      <th></th>\n      <th></th>\n      <th></th>\n      <th></th>\n      <th></th>\n      <th></th>\n      <th></th>\n      <th></th>\n      <th></th>\n      <th></th>\n      <th></th>\n      <th></th>\n      <th></th>\n      <th></th>\n      <th></th>\n    </tr>\n  </thead>\n  <tbody>\n    <tr>\n      <th>diesel</th>\n      <td>12874</td>\n      <td>12874</td>\n      <td>12874</td>\n      <td>12874</td>\n      <td>12874</td>\n      <td>12874</td>\n      <td>12874</td>\n      <td>12874</td>\n      <td>12874</td>\n      <td>12874</td>\n      <td>...</td>\n      <td>12874</td>\n      <td>12874</td>\n      <td>12874</td>\n      <td>12874</td>\n      <td>12874</td>\n      <td>12874</td>\n      <td>12874</td>\n      <td>12874</td>\n      <td>12874</td>\n      <td>12874</td>\n    </tr>\n    <tr>\n      <th>electric</th>\n      <td>10</td>\n      <td>10</td>\n      <td>10</td>\n      <td>10</td>\n      <td>10</td>\n      <td>10</td>\n      <td>10</td>\n      <td>10</td>\n      <td>0</td>\n      <td>10</td>\n      <td>...</td>\n      <td>10</td>\n      <td>10</td>\n      <td>10</td>\n      <td>10</td>\n      <td>10</td>\n      <td>10</td>\n      <td>10</td>\n      <td>10</td>\n      <td>10</td>\n      <td>10</td>\n    </tr>\n    <tr>\n      <th>gasoline</th>\n      <td>25647</td>\n      <td>25647</td>\n      <td>25647</td>\n      <td>25647</td>\n      <td>25647</td>\n      <td>25647</td>\n      <td>25647</td>\n      <td>25647</td>\n      <td>25647</td>\n      <td>25647</td>\n      <td>...</td>\n      <td>25647</td>\n      <td>25647</td>\n      <td>25647</td>\n      <td>25647</td>\n      <td>25647</td>\n      <td>25647</td>\n      <td>25647</td>\n      <td>25647</td>\n      <td>25647</td>\n      <td>25647</td>\n    </tr>\n  </tbody>\n</table>\n<p>3 rows × 29 columns</p>\n</div>"
     },
     "metadata": {}
    }
   ],
   "execution_count": null
  },
  {
   "cell_type": "markdown",
   "source": "**RETO:** Inspeccionemos precios de una marca y modelo particular !\n\n",
   "metadata": {
    "tags": [],
    "cell_id": "00013-70002ad3-5431-42ce-8104-5d7d7c2f5dd1",
    "deepnote_cell_type": "markdown"
   }
  },
  {
   "cell_type": "code",
   "metadata": {
    "tags": [],
    "cell_id": "00009-4ced9f5a-0590-443d-8740-4052581ee182",
    "deepnote_to_be_reexecuted": false,
    "source_hash": "ec032a66",
    "execution_start": 1637202844549,
    "execution_millis": 799,
    "output_cleared": false,
    "deepnote_cell_type": "code"
   },
   "source": "Q7_df = df[(df['manufacturer_name']=='Audi') & (df['model_name']=='Q7')]\nsns.histplot(Q7_df, x='price_usd', hue = 'year_produced')",
   "outputs": [
    {
     "output_type": "execute_result",
     "execution_count": 30,
     "data": {
      "text/plain": "<AxesSubplot:xlabel='price_usd', ylabel='Count'>"
     },
     "metadata": {}
    },
    {
     "data": {
      "text/plain": "<Figure size 432x288 with 1 Axes>",
      "image/png": "[encoded data removed]"
     },
     "metadata": {
      "needs_background": "light",
      "image/png": {
       "width": 382,
       "height": 263
      }
     },
     "output_type": "display_data"
    }
   ],
   "execution_count": null
  },
  {
   "cell_type": "code",
   "source": "renault_df = df[(df['manufacturer_name']=='Renault') & (df['model_name']=='Clio')]\nsns.histplot(renault_df, x='price_usd', hue='year_produced')",
   "metadata": {
    "tags": [],
    "cell_id": "00014-6d0a6e31-44ca-4896-8160-24a2efe323fd",
    "deepnote_to_be_reexecuted": false,
    "source_hash": "965f385c",
    "execution_start": 1637203174906,
    "execution_millis": 1418,
    "allow_embed": true,
    "deepnote_cell_type": "code"
   },
   "outputs": [
    {
     "output_type": "execute_result",
     "execution_count": 34,
     "data": {
      "text/plain": "<AxesSubplot:xlabel='price_usd', ylabel='Count'>"
     },
     "metadata": {}
    },
    {
     "data": {
      "text/plain": "<Figure size 432x288 with 1 Axes>",
      "image/png": "[encoded data removed]"
     },
     "metadata": {
      "needs_background": "light",
      "image/png": {
       "width": 386,
       "height": 415
      }
     },
     "output_type": "display_data"
    }
   ],
   "execution_count": null
  },
  {
   "cell_type": "markdown",
   "source": "<a style='text-decoration:none;line-height:16px;display:flex;color:#5B5B62;padding:10px;justify-content:end;' href='https://deepnote.com?utm_source=created-in-deepnote-cell&projectId=16a3b0ed-1c70-45b6-bcf4-7a698bbcca49' target=\"_blank\">\n<img alt='Created in deepnote.com' style='display:inline;max-height:16px;margin:0px;margin-right:7.5px;' src='data:image/svg+xml;base64,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' > </img>\nCreated in <span style='font-weight:600;margin-left:4px;'>Deepnote</span></a>",
   "metadata": {
    "tags": [],
    "created_in_deepnote_cell": true,
    "deepnote_cell_type": "markdown"
   }
  }
 ],
 "nbformat": 4,
 "nbformat_minor": 2,
 "metadata": {
  "orig_nbformat": 2,
  "deepnote": {
   "is_reactive": false
  },
  "deepnote_notebook_id": "0cb6ba8f-ae94-443e-a494-c94782fd00d2",
  "deepnote_execution_queue": []
 }
}